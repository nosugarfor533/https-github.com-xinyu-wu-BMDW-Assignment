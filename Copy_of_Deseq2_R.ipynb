{
  "nbformat": 4,
  "nbformat_minor": 0,
  "metadata": {
    "colab": {
      "name": "Copy of Deseq2_R.ipynb",
      "provenance": [],
      "collapsed_sections": [],
      "include_colab_link": true
    },
    "kernelspec": {
      "name": "ir",
      "display_name": "R"
    }
  },
  "cells": [
    {
      "cell_type": "markdown",
      "metadata": {
        "id": "view-in-github",
        "colab_type": "text"
      },
      "source": [
        "<a href=\"https://colab.research.google.com/github/nosugarfor533/https-github.com-xinyu-wu-BMDW-Assignment/blob/master/Copy_of_Deseq2_R.ipynb\" target=\"_parent\"><img src=\"https://colab.research.google.com/assets/colab-badge.svg\" alt=\"Open In Colab\"/></a>"
      ]
    },
    {
      "cell_type": "code",
      "metadata": {
        "id": "e1gNfYghKXKt",
        "colab_type": "code",
        "colab": {
          "base_uri": "https://localhost:8080/",
          "height": 272
        },
        "outputId": "417bd6fd-8d2f-4ea8-9dfe-3b1459219b33"
      },
      "source": [
        "?system\n",
        "version"
      ],
      "execution_count": null,
      "outputs": [
        {
          "output_type": "display_data",
          "data": {
            "text/plain": [
              "               _                           \n",
              "platform       x86_64-pc-linux-gnu         \n",
              "arch           x86_64                      \n",
              "os             linux-gnu                   \n",
              "system         x86_64, linux-gnu           \n",
              "status                                     \n",
              "major          3                           \n",
              "minor          6.3                         \n",
              "year           2020                        \n",
              "month          02                          \n",
              "day            29                          \n",
              "svn rev        77875                       \n",
              "language       R                           \n",
              "version.string R version 3.6.3 (2020-02-29)\n",
              "nickname       Holding the Windsock        "
            ]
          },
          "metadata": {
            "tags": []
          }
        }
      ]
    },
    {
      "cell_type": "markdown",
      "metadata": {
        "id": "ixvBLeObQS9H",
        "colab_type": "text"
      },
      "source": [
        "\n",
        "\n",
        "---\n",
        "\n",
        "Analyze gene count data using Deseq2 \n",
        "\n",
        "---\n",
        "\n"
      ]
    },
    {
      "cell_type": "code",
      "metadata": {
        "id": "03uTooiMiIJe",
        "colab_type": "code",
        "colab": {
          "base_uri": "https://localhost:8080/",
          "height": 119
        },
        "outputId": "109226d7-93fb-4421-949d-9b3ec175834d"
      },
      "source": [
        "install.packages(\"rgl\", repos = \"http://cran.rstudio.com/\")"
      ],
      "execution_count": null,
      "outputs": [
        {
          "output_type": "stream",
          "text": [
            "Installing package into ‘/usr/local/lib/R/site-library’\n",
            "(as ‘lib’ is unspecified)\n",
            "\n",
            "also installing the dependencies ‘httpuv’, ‘xtable’, ‘sourcetools’, ‘fastmap’, ‘miniUI’, ‘webshot’, ‘shiny’, ‘manipulateWidget’\n",
            "\n",
            "\n"
          ],
          "name": "stderr"
        }
      ]
    },
    {
      "cell_type": "code",
      "metadata": {
        "id": "o5hQ0SuY28LG",
        "colab_type": "code",
        "colab": {
          "base_uri": "https://localhost:8080/",
          "height": 68
        },
        "outputId": "789594c0-754d-4ae7-e013-34a182d7059e"
      },
      "source": [
        "# Install specific version of XML for compatibility with following packages (CosRank and Deseq2)\n",
        "packageurl <- \"https://cran.r-project.org/src/contrib/Archive/XML/XML_3.98-1.20.tar.gz\"\n",
        "install.packages(packageurl, repos=NULL, type=\"source\")"
      ],
      "execution_count": null,
      "outputs": [
        {
          "output_type": "stream",
          "text": [
            "Installing package into ‘/usr/local/lib/R/site-library’\n",
            "(as ‘lib’ is unspecified)\n",
            "\n"
          ],
          "name": "stderr"
        }
      ]
    },
    {
      "cell_type": "code",
      "metadata": {
        "id": "3o11KxDzyC0g",
        "colab_type": "code",
        "colab": {
          "base_uri": "https://localhost:8080/",
          "height": 374
        },
        "outputId": "29b97b2b-ae0b-4a50-e797-9e1d904a992b"
      },
      "source": [
        "install.packages(\"ConsRank\", repos = \"http://cran.rstudio.com/\")\n",
        "library(\"ConsRank\")"
      ],
      "execution_count": null,
      "outputs": [
        {
          "output_type": "stream",
          "text": [
            "Installing package into ‘/usr/local/lib/R/site-library’\n",
            "(as ‘lib’ is unspecified)\n",
            "\n",
            "also installing the dependencies ‘data.table’, ‘rlist’, ‘proxy’, ‘gtools’\n",
            "\n",
            "\n",
            "Loading required package: rgl\n",
            "\n",
            "Warning message in rgl.init(initValue, onlyNULL):\n",
            "“RGL: unable to open X11 display”\n",
            "Warning message:\n",
            "“'rgl.init' failed, running with 'rgl.useNULL = TRUE'.”\n",
            "\n",
            "Attaching package: ‘ConsRank’\n",
            "\n",
            "\n",
            "The following object is masked from ‘package:base’:\n",
            "\n",
            "    labels\n",
            "\n",
            "\n"
          ],
          "name": "stderr"
        }
      ]
    },
    {
      "cell_type": "code",
      "metadata": {
        "id": "SPYGePw53fWq",
        "colab_type": "code",
        "colab": {}
      },
      "source": [
        "system(\"add-apt-repository -y ppa:marutter/rrutter\")\n",
        "system(\"add-apt-repository -y ppa:marutter/c2d4u\")\n",
        "system(\"apt-get update\")\n",
        "system(\"apt install -y r-cran-rstan\")"
      ],
      "execution_count": null,
      "outputs": []
    },
    {
      "cell_type": "code",
      "metadata": {
        "id": "1IzjHJFxv01f",
        "colab_type": "code",
        "colab": {
          "base_uri": "https://localhost:8080/",
          "height": 68
        },
        "outputId": "31103a61-645b-455b-8f81-1cf48a437197"
      },
      "source": [
        "install.packages(\"ggplot2\")"
      ],
      "execution_count": null,
      "outputs": [
        {
          "output_type": "stream",
          "text": [
            "Installing package into ‘/usr/local/lib/R/site-library’\n",
            "(as ‘lib’ is unspecified)\n",
            "\n"
          ],
          "name": "stderr"
        }
      ]
    },
    {
      "cell_type": "code",
      "metadata": {
        "id": "HapL82pBPYtG",
        "colab_type": "code",
        "colab": {
          "base_uri": "https://localhost:8080/",
          "height": 68
        },
        "outputId": "48c2c40b-0319-421a-a53d-283acab987af"
      },
      "source": [
        "if (!requireNamespace(\"BiocManager\", quietly = TRUE))\n",
        "    install.packages(\"BiocManager\")"
      ],
      "execution_count": null,
      "outputs": [
        {
          "output_type": "stream",
          "text": [
            "Installing package into ‘/usr/local/lib/R/site-library’\n",
            "(as ‘lib’ is unspecified)\n",
            "\n"
          ],
          "name": "stderr"
        }
      ]
    },
    {
      "cell_type": "code",
      "metadata": {
        "id": "b_Il9DTUmsy_",
        "colab_type": "code",
        "colab": {
          "base_uri": "https://localhost:8080/",
          "height": 187
        },
        "outputId": "4b43730a-42d5-4a76-ce16-cde2fdec8783"
      },
      "source": [
        "BiocManager::install(version=\"3.9\", ask=FALSE)"
      ],
      "execution_count": null,
      "outputs": [
        {
          "output_type": "stream",
          "text": [
            "Bioconductor version 3.9 (BiocManager 1.30.10), R 3.6.3 (2020-02-29)\n",
            "\n",
            "Installing package(s) 'BiocVersion'\n",
            "\n",
            "Installing package(s) 'curl', 'dplyr', 'farver', 'fs', 'rex', 'rprojroot',\n",
            "  'tidyr'\n",
            "\n",
            "also installing the dependency ‘cpp11’\n",
            "\n",
            "\n"
          ],
          "name": "stderr"
        }
      ]
    },
    {
      "cell_type": "code",
      "metadata": {
        "id": "l-fw1xkQmuaD",
        "colab_type": "code",
        "colab": {}
      },
      "source": [
        "BiocManager::install(\"DESeq2\", version=\"3.9\")"
      ],
      "execution_count": null,
      "outputs": []
    },
    {
      "cell_type": "code",
      "metadata": {
        "id": "sdyV67dk2vGx",
        "colab_type": "code",
        "colab": {}
      },
      "source": [
        "# Download the Data"
      ],
      "execution_count": null,
      "outputs": []
    },
    {
      "cell_type": "code",
      "metadata": {
        "id": "FOzAlGM-pg8q",
        "colab_type": "code",
        "colab": {}
      },
      "source": [
        "# countsName <- \"https://bioconnector.github.io/workshops/data/airway_scaledcounts.csv\"\n",
        "# download.file(countsName, destfile = \"airway_scaledcounts.csv\", method = \"auto\")\n",
        "\n",
        "# countData <- read.csv('airway_scaledcounts.csv', header = TRUE, sep = \",\")\n",
        "# head(countData)"
      ],
      "execution_count": null,
      "outputs": []
    },
    {
      "cell_type": "code",
      "metadata": {
        "id": "67_zKx0Atm2V",
        "colab_type": "code",
        "colab": {}
      },
      "source": [
        "# metaDataName <- \"https://bioconnector.github.io/workshops/data/airway_metadata.csv\"\n",
        "# download.file(metaDataName, destfile = \"airway_metadata.csv\", method = \"auto\")\n",
        "# metaData <- read.csv('airway_metadata.csv', header = TRUE, sep = \",\")\n",
        "# metaData\n",
        "\n",
        "\n",
        "# metadata matrix: an matrix in the form of pandas dataframe, \n",
        "# see DESeq2 manual, samplenames as rownames following treatment type (A,B)\n",
        "#     sampleA1        A\n",
        "#     sampleA2        A\n",
        "#     sampleB1        B\n",
        "#     sampleB2        B"
      ],
      "execution_count": null,
      "outputs": []
    },
    {
      "cell_type": "code",
      "metadata": {
        "id": "58O0c2-H0wrD",
        "colab_type": "code",
        "colab": {}
      },
      "source": [
        "countData <- read.csv('gene_matrix.csv', header = TRUE, sep = \",\",row.names=NULL)\n",
        "head(countData)"
      ],
      "execution_count": null,
      "outputs": []
    },
    {
      "cell_type": "code",
      "metadata": {
        "id": "srNf_e3d00H5",
        "colab_type": "code",
        "colab": {}
      },
      "source": [
        "metaData <- read.csv('meta_data.csv', header = TRUE, sep = \",\",row.names=NULL)\n",
        "metaData"
      ],
      "execution_count": null,
      "outputs": []
    },
    {
      "cell_type": "markdown",
      "metadata": {
        "id": "z6yFGrdrphdd",
        "colab_type": "text"
      },
      "source": [
        "**Differential analysis Calculation with Salmon data using DESEQ2**"
      ]
    },
    {
      "cell_type": "markdown",
      "metadata": {
        "colab_type": "text",
        "id": "1lRFHnKAqum-"
      },
      "source": [
        "Construct DESEQDataSet Object\n"
      ]
    },
    {
      "cell_type": "code",
      "metadata": {
        "id": "AJUQ7n7oL_MV",
        "colab_type": "code",
        "colab": {}
      },
      "source": [
        "library(ggplot2)\n",
        "library( \"DESeq2\" )"
      ],
      "execution_count": null,
      "outputs": []
    },
    {
      "cell_type": "code",
      "metadata": {
        "colab_type": "code",
        "id": "iKv4ZBG8qxzN",
        "colab": {}
      },
      "source": [
        "dds <- DESeqDataSetFromMatrix(countData=countData, \n",
        "                              colData=metaData, \n",
        "                              design=~status, tidy = TRUE)"
      ],
      "execution_count": null,
      "outputs": []
    },
    {
      "cell_type": "code",
      "metadata": {
        "colab_type": "code",
        "id": "KdbEoxnXq1eo",
        "colab": {}
      },
      "source": [
        "#Design specifies how the counts from each gene depend on our variables in the metadata\n",
        "#For this dataset the factor we care about is our treatment status (status)\n",
        "#tidy=TRUE argument, which tells DESeq2 to output the results table with rownames as a first #column called 'row.\n",
        "\n",
        "#let's see what this object looks like\n",
        "dds"
      ],
      "execution_count": null,
      "outputs": []
    },
    {
      "cell_type": "markdown",
      "metadata": {
        "colab_type": "text",
        "id": "kgvFmbukrGmT"
      },
      "source": [
        "Run DESEQ function"
      ]
    },
    {
      "cell_type": "code",
      "metadata": {
        "colab_type": "code",
        "id": "n716Cfe6rJ5O",
        "colab": {}
      },
      "source": [
        "dds <- DESeq(dds)\n",
        "#estimateSizeFactors\n",
        "#This calculates the relative library depth of each sample \n",
        "\n",
        "#estimateDispersions\n",
        "#estimates the dispersion of counts for each gene \n",
        "\n",
        "#nbinomWaldTest\n",
        "#calculates the significance of coefficients in a Negative Binomial GLM using the size and dispersion outputs"
      ],
      "execution_count": null,
      "outputs": []
    },
    {
      "cell_type": "markdown",
      "metadata": {
        "colab_type": "text",
        "id": "LuH_oudRrNsQ"
      },
      "source": [
        "Results Table"
      ]
    },
    {
      "cell_type": "code",
      "metadata": {
        "colab_type": "code",
        "id": "ApMAK4cfrQHj",
        "colab": {}
      },
      "source": [
        "res <- results(dds, tidy=TRUE)\n",
        "head(res)"
      ],
      "execution_count": null,
      "outputs": []
    },
    {
      "cell_type": "markdown",
      "metadata": {
        "colab_type": "text",
        "id": "WFm8-OvlrTWl"
      },
      "source": [
        "Summary of differential gene expression"
      ]
    },
    {
      "cell_type": "code",
      "metadata": {
        "colab_type": "code",
        "id": "nBL8r4o_rXFp",
        "colab": {}
      },
      "source": [
        "summary(res)"
      ],
      "execution_count": null,
      "outputs": []
    },
    {
      "cell_type": "markdown",
      "metadata": {
        "colab_type": "text",
        "id": "sZlRBkMdrb2d"
      },
      "source": [
        "Sort summary list by p-value"
      ]
    },
    {
      "cell_type": "code",
      "metadata": {
        "colab_type": "code",
        "id": "iRYsQWybrers",
        "colab": {}
      },
      "source": [
        "res <- res[order(res$pvalue),]\n",
        "head(res)\n"
      ],
      "execution_count": null,
      "outputs": []
    },
    {
      "cell_type": "markdown",
      "metadata": {
        "colab_type": "text",
        "id": "uDQYWxiDrhut"
      },
      "source": [
        "Plot Counts"
      ]
    },
    {
      "cell_type": "code",
      "metadata": {
        "colab_type": "code",
        "id": "Mdo4g_xRrkSw",
        "colab": {}
      },
      "source": [
        "#we can use plotCounts fxn to compare the normalized counts\n",
        "#between treated and control groups for our top 6 genes\n",
        "par(mfrow=c(2,3))\n",
        "\n",
        "plotCounts(dds, gene=\"ENSG00000251638\", intgroup=\"status\")\n",
        "plotCounts(dds, gene=\"ENSG00000166295\", intgroup=\"status\")\n",
        "plotCounts(dds, gene=\"ENSG00000270570\", intgroup=\"status\")\n",
        "plotCounts(dds, gene=\"ENSG00000092820\", intgroup=\"status\")\n",
        "plotCounts(dds, gene=\"ENSG00000139626\", intgroup=\"status\")\n",
        "plotCounts(dds, gene=\"ENSG00000258597\", intgroup=\"status\")\n",
        "#Next steps in exploring these data...BLAST to database to find associated gene function"
      ],
      "execution_count": null,
      "outputs": []
    },
    {
      "cell_type": "markdown",
      "metadata": {
        "colab_type": "text",
        "id": "2J117J3-rm43"
      },
      "source": [
        "Volcano Plot"
      ]
    },
    {
      "cell_type": "code",
      "metadata": {
        "colab_type": "code",
        "id": "aRbcIB1xrpVr",
        "colab": {}
      },
      "source": [
        "library(repr)\n",
        "options(repr.plot.width=10, repr.plot.height=7) "
      ],
      "execution_count": null,
      "outputs": []
    },
    {
      "cell_type": "code",
      "metadata": {
        "colab_type": "code",
        "id": "9LtKmUV3rrXl",
        "colab": {}
      },
      "source": [
        "#reset par\n",
        "par(mfrow=c(1,1))\n",
        "# Make a basic volcano plot\n",
        "with(res, plot(log2FoldChange, -log10(pvalue), pch=20, main=\"Volcano plot\", xlim=c(-3,3)))\n",
        "\n",
        "# Add colored points: blue if padj<0.01, red if log2FC>1 and padj<0.05)\n",
        "with(subset(res, padj<.01 ), points(log2FoldChange, -log10(pvalue), pch=20, col=\"blue\"))\n",
        "with(subset(res, padj<.01 & abs(log2FoldChange)>2), points(log2FoldChange, -log10(pvalue), pch=20, col=\"red\"))\n"
      ],
      "execution_count": null,
      "outputs": []
    },
    {
      "cell_type": "code",
      "metadata": {
        "colab_type": "code",
        "id": "5S9tV0_Kru-m",
        "colab": {}
      },
      "source": [
        "#First we need to transform the raw count data\n",
        "#vst function will perform variance stabilizing transformation\n",
        "\n",
        "vsdata <- vst(dds, blind=FALSE)"
      ],
      "execution_count": null,
      "outputs": []
    },
    {
      "cell_type": "code",
      "metadata": {
        "colab_type": "code",
        "id": "BJII1gvXrw-k",
        "colab": {}
      },
      "source": [
        "plotPCA(vsdata, intgroup=\"status\")\n",
        "#using the DESEQ2 plotPCA fxn we can look at how our samples group by treatment\n"
      ],
      "execution_count": null,
      "outputs": []
    }
  ]
}