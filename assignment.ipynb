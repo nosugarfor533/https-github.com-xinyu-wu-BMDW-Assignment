{
  "nbformat": 4,
  "nbformat_minor": 0,
  "metadata": {
    "colab": {
      "name": "assignment.ipynb",
      "provenance": [],
      "authorship_tag": "ABX9TyPWF8Cp+0iobakrWepep+pG",
      "include_colab_link": true
    },
    "kernelspec": {
      "name": "python3",
      "display_name": "Python 3"
    }
  },
  "cells": [
    {
      "cell_type": "markdown",
      "metadata": {
        "id": "view-in-github",
        "colab_type": "text"
      },
      "source": [
        "<a href=\"https://colab.research.google.com/github/nosugarfor533/https-github.com-xinyu-wu-BMDW-Assignment/blob/master/assignment.ipynb\" target=\"_parent\"><img src=\"https://colab.research.google.com/assets/colab-badge.svg\" alt=\"Open In Colab\"/></a>"
      ]
    },
    {
      "cell_type": "code",
      "metadata": {
        "id": "cdCDk5n9cIlC",
        "colab_type": "code",
        "colab": {
          "base_uri": "https://localhost:8080/",
          "height": 122
        },
        "cellView": "both",
        "outputId": "d5dbd642-c9b3-441f-8b65-1cb72ee313f3"
      },
      "source": [
        "from google.colab import drive\n",
        "drive.mount('/content/drive')"
      ],
      "execution_count": 1,
      "outputs": [
        {
          "output_type": "stream",
          "text": [
            "Go to this URL in a browser: https://accounts.google.com/o/oauth2/auth?client_id=947318989803-6bn6qk8qdgf4n4g3pfee6491hc0brc4i.apps.googleusercontent.com&redirect_uri=urn%3aietf%3awg%3aoauth%3a2.0%3aoob&response_type=code&scope=email%20https%3a%2f%2fwww.googleapis.com%2fauth%2fdocs.test%20https%3a%2f%2fwww.googleapis.com%2fauth%2fdrive%20https%3a%2f%2fwww.googleapis.com%2fauth%2fdrive.photos.readonly%20https%3a%2f%2fwww.googleapis.com%2fauth%2fpeopleapi.readonly\n",
            "\n",
            "Enter your authorization code:\n",
            "··········\n",
            "Mounted at /content/drive\n"
          ],
          "name": "stdout"
        }
      ]
    },
    {
      "cell_type": "code",
      "metadata": {
        "id": "TWwX7-IDd2Oe",
        "colab_type": "code",
        "colab": {}
      },
      "source": [
        "import pandas as pd"
      ],
      "execution_count": 2,
      "outputs": []
    },
    {
      "cell_type": "code",
      "metadata": {
        "id": "pFT-6z5qer_g",
        "colab_type": "code",
        "colab": {}
      },
      "source": [
        "case_df=pd.read_csv('/content/drive/My Drive/data_science_workshop/case_data.csv')\n",
        "control_df=pd.read_csv('/content/drive/My Drive/data_science_workshop/control_data.csv')"
      ],
      "execution_count": 3,
      "outputs": []
    },
    {
      "cell_type": "code",
      "metadata": {
        "id": "-TITC6WJeKSZ",
        "colab_type": "code",
        "colab": {
          "base_uri": "https://localhost:8080/",
          "height": 419
        },
        "outputId": "3ce9b346-f838-4285-a93c-b2853394a128"
      },
      "source": [
        "full_df = pd.concat([case_df, control_df])\n",
        "full_df"
      ],
      "execution_count": 4,
      "outputs": [
        {
          "output_type": "execute_result",
          "data": {
            "text/html": [
              "<div>\n",
              "<style scoped>\n",
              "    .dataframe tbody tr th:only-of-type {\n",
              "        vertical-align: middle;\n",
              "    }\n",
              "\n",
              "    .dataframe tbody tr th {\n",
              "        vertical-align: top;\n",
              "    }\n",
              "\n",
              "    .dataframe thead th {\n",
              "        text-align: right;\n",
              "    }\n",
              "</style>\n",
              "<table border=\"1\" class=\"dataframe\">\n",
              "  <thead>\n",
              "    <tr style=\"text-align: right;\">\n",
              "      <th></th>\n",
              "      <th>Phenotype_A</th>\n",
              "      <th>Phenotype_B</th>\n",
              "      <th>Phenotype_C</th>\n",
              "      <th>Phenotype_D</th>\n",
              "      <th>Phenotype_E</th>\n",
              "      <th>predicted_label</th>\n",
              "      <th>sample_ID</th>\n",
              "    </tr>\n",
              "  </thead>\n",
              "  <tbody>\n",
              "    <tr>\n",
              "      <th>0</th>\n",
              "      <td>2.292659</td>\n",
              "      <td>0.431692</td>\n",
              "      <td>-0.102921</td>\n",
              "      <td>-0.558837</td>\n",
              "      <td>0.321569</td>\n",
              "      <td>control</td>\n",
              "      <td>Case_0</td>\n",
              "    </tr>\n",
              "    <tr>\n",
              "      <th>1</th>\n",
              "      <td>0.990270</td>\n",
              "      <td>-0.105752</td>\n",
              "      <td>-0.875705</td>\n",
              "      <td>-1.176165</td>\n",
              "      <td>-1.263534</td>\n",
              "      <td>case</td>\n",
              "      <td>Case_1</td>\n",
              "    </tr>\n",
              "    <tr>\n",
              "      <th>2</th>\n",
              "      <td>4.073586</td>\n",
              "      <td>0.953800</td>\n",
              "      <td>0.228695</td>\n",
              "      <td>-1.869877</td>\n",
              "      <td>-0.691730</td>\n",
              "      <td>control</td>\n",
              "      <td>Case_2</td>\n",
              "    </tr>\n",
              "    <tr>\n",
              "      <th>3</th>\n",
              "      <td>-0.382441</td>\n",
              "      <td>0.157373</td>\n",
              "      <td>-0.509281</td>\n",
              "      <td>-0.604467</td>\n",
              "      <td>1.743507</td>\n",
              "      <td>control</td>\n",
              "      <td>Case_3</td>\n",
              "    </tr>\n",
              "    <tr>\n",
              "      <th>4</th>\n",
              "      <td>2.244434</td>\n",
              "      <td>0.226133</td>\n",
              "      <td>-0.243899</td>\n",
              "      <td>-0.568993</td>\n",
              "      <td>2.033874</td>\n",
              "      <td>control</td>\n",
              "      <td>Case_4</td>\n",
              "    </tr>\n",
              "    <tr>\n",
              "      <th>...</th>\n",
              "      <td>...</td>\n",
              "      <td>...</td>\n",
              "      <td>...</td>\n",
              "      <td>...</td>\n",
              "      <td>...</td>\n",
              "      <td>...</td>\n",
              "      <td>...</td>\n",
              "    </tr>\n",
              "    <tr>\n",
              "      <th>249973</th>\n",
              "      <td>0.743734</td>\n",
              "      <td>-1.061748</td>\n",
              "      <td>1.420790</td>\n",
              "      <td>0.828385</td>\n",
              "      <td>0.063961</td>\n",
              "      <td>case</td>\n",
              "      <td>Control_249973</td>\n",
              "    </tr>\n",
              "    <tr>\n",
              "      <th>249974</th>\n",
              "      <td>1.039140</td>\n",
              "      <td>-1.350113</td>\n",
              "      <td>0.569011</td>\n",
              "      <td>0.419397</td>\n",
              "      <td>0.686059</td>\n",
              "      <td>control</td>\n",
              "      <td>Control_249974</td>\n",
              "    </tr>\n",
              "    <tr>\n",
              "      <th>249975</th>\n",
              "      <td>-2.261171</td>\n",
              "      <td>0.538808</td>\n",
              "      <td>2.578501</td>\n",
              "      <td>1.082193</td>\n",
              "      <td>2.455028</td>\n",
              "      <td>control</td>\n",
              "      <td>Control_249975</td>\n",
              "    </tr>\n",
              "    <tr>\n",
              "      <th>249976</th>\n",
              "      <td>0.133600</td>\n",
              "      <td>1.001995</td>\n",
              "      <td>0.976888</td>\n",
              "      <td>-0.125005</td>\n",
              "      <td>1.965423</td>\n",
              "      <td>control</td>\n",
              "      <td>Control_249976</td>\n",
              "    </tr>\n",
              "    <tr>\n",
              "      <th>249977</th>\n",
              "      <td>2.122954</td>\n",
              "      <td>-0.768630</td>\n",
              "      <td>-0.668715</td>\n",
              "      <td>-0.219740</td>\n",
              "      <td>-3.400768</td>\n",
              "      <td>case</td>\n",
              "      <td>Control_249977</td>\n",
              "    </tr>\n",
              "  </tbody>\n",
              "</table>\n",
              "<p>499986 rows × 7 columns</p>\n",
              "</div>"
            ],
            "text/plain": [
              "        Phenotype_A  Phenotype_B  ...  predicted_label       sample_ID\n",
              "0          2.292659     0.431692  ...          control          Case_0\n",
              "1          0.990270    -0.105752  ...             case          Case_1\n",
              "2          4.073586     0.953800  ...          control          Case_2\n",
              "3         -0.382441     0.157373  ...          control          Case_3\n",
              "4          2.244434     0.226133  ...          control          Case_4\n",
              "...             ...          ...  ...              ...             ...\n",
              "249973     0.743734    -1.061748  ...             case  Control_249973\n",
              "249974     1.039140    -1.350113  ...          control  Control_249974\n",
              "249975    -2.261171     0.538808  ...          control  Control_249975\n",
              "249976     0.133600     1.001995  ...          control  Control_249976\n",
              "249977     2.122954    -0.768630  ...             case  Control_249977\n",
              "\n",
              "[499986 rows x 7 columns]"
            ]
          },
          "metadata": {
            "tags": []
          },
          "execution_count": 4
        }
      ]
    },
    {
      "cell_type": "code",
      "metadata": {
        "id": "wwkAxqlpgF4F",
        "colab_type": "code",
        "colab": {
          "base_uri": "https://localhost:8080/",
          "height": 419
        },
        "outputId": "75940ba7-6289-46c2-b5e7-c1fad68136ce"
      },
      "source": [
        "full_df['label']=full_df['predicted_label']\n",
        "full_df"
      ],
      "execution_count": 5,
      "outputs": [
        {
          "output_type": "execute_result",
          "data": {
            "text/html": [
              "<div>\n",
              "<style scoped>\n",
              "    .dataframe tbody tr th:only-of-type {\n",
              "        vertical-align: middle;\n",
              "    }\n",
              "\n",
              "    .dataframe tbody tr th {\n",
              "        vertical-align: top;\n",
              "    }\n",
              "\n",
              "    .dataframe thead th {\n",
              "        text-align: right;\n",
              "    }\n",
              "</style>\n",
              "<table border=\"1\" class=\"dataframe\">\n",
              "  <thead>\n",
              "    <tr style=\"text-align: right;\">\n",
              "      <th></th>\n",
              "      <th>Phenotype_A</th>\n",
              "      <th>Phenotype_B</th>\n",
              "      <th>Phenotype_C</th>\n",
              "      <th>Phenotype_D</th>\n",
              "      <th>Phenotype_E</th>\n",
              "      <th>predicted_label</th>\n",
              "      <th>sample_ID</th>\n",
              "      <th>label</th>\n",
              "    </tr>\n",
              "  </thead>\n",
              "  <tbody>\n",
              "    <tr>\n",
              "      <th>0</th>\n",
              "      <td>2.292659</td>\n",
              "      <td>0.431692</td>\n",
              "      <td>-0.102921</td>\n",
              "      <td>-0.558837</td>\n",
              "      <td>0.321569</td>\n",
              "      <td>control</td>\n",
              "      <td>Case_0</td>\n",
              "      <td>control</td>\n",
              "    </tr>\n",
              "    <tr>\n",
              "      <th>1</th>\n",
              "      <td>0.990270</td>\n",
              "      <td>-0.105752</td>\n",
              "      <td>-0.875705</td>\n",
              "      <td>-1.176165</td>\n",
              "      <td>-1.263534</td>\n",
              "      <td>case</td>\n",
              "      <td>Case_1</td>\n",
              "      <td>case</td>\n",
              "    </tr>\n",
              "    <tr>\n",
              "      <th>2</th>\n",
              "      <td>4.073586</td>\n",
              "      <td>0.953800</td>\n",
              "      <td>0.228695</td>\n",
              "      <td>-1.869877</td>\n",
              "      <td>-0.691730</td>\n",
              "      <td>control</td>\n",
              "      <td>Case_2</td>\n",
              "      <td>control</td>\n",
              "    </tr>\n",
              "    <tr>\n",
              "      <th>3</th>\n",
              "      <td>-0.382441</td>\n",
              "      <td>0.157373</td>\n",
              "      <td>-0.509281</td>\n",
              "      <td>-0.604467</td>\n",
              "      <td>1.743507</td>\n",
              "      <td>control</td>\n",
              "      <td>Case_3</td>\n",
              "      <td>control</td>\n",
              "    </tr>\n",
              "    <tr>\n",
              "      <th>4</th>\n",
              "      <td>2.244434</td>\n",
              "      <td>0.226133</td>\n",
              "      <td>-0.243899</td>\n",
              "      <td>-0.568993</td>\n",
              "      <td>2.033874</td>\n",
              "      <td>control</td>\n",
              "      <td>Case_4</td>\n",
              "      <td>control</td>\n",
              "    </tr>\n",
              "    <tr>\n",
              "      <th>...</th>\n",
              "      <td>...</td>\n",
              "      <td>...</td>\n",
              "      <td>...</td>\n",
              "      <td>...</td>\n",
              "      <td>...</td>\n",
              "      <td>...</td>\n",
              "      <td>...</td>\n",
              "      <td>...</td>\n",
              "    </tr>\n",
              "    <tr>\n",
              "      <th>249973</th>\n",
              "      <td>0.743734</td>\n",
              "      <td>-1.061748</td>\n",
              "      <td>1.420790</td>\n",
              "      <td>0.828385</td>\n",
              "      <td>0.063961</td>\n",
              "      <td>case</td>\n",
              "      <td>Control_249973</td>\n",
              "      <td>case</td>\n",
              "    </tr>\n",
              "    <tr>\n",
              "      <th>249974</th>\n",
              "      <td>1.039140</td>\n",
              "      <td>-1.350113</td>\n",
              "      <td>0.569011</td>\n",
              "      <td>0.419397</td>\n",
              "      <td>0.686059</td>\n",
              "      <td>control</td>\n",
              "      <td>Control_249974</td>\n",
              "      <td>control</td>\n",
              "    </tr>\n",
              "    <tr>\n",
              "      <th>249975</th>\n",
              "      <td>-2.261171</td>\n",
              "      <td>0.538808</td>\n",
              "      <td>2.578501</td>\n",
              "      <td>1.082193</td>\n",
              "      <td>2.455028</td>\n",
              "      <td>control</td>\n",
              "      <td>Control_249975</td>\n",
              "      <td>control</td>\n",
              "    </tr>\n",
              "    <tr>\n",
              "      <th>249976</th>\n",
              "      <td>0.133600</td>\n",
              "      <td>1.001995</td>\n",
              "      <td>0.976888</td>\n",
              "      <td>-0.125005</td>\n",
              "      <td>1.965423</td>\n",
              "      <td>control</td>\n",
              "      <td>Control_249976</td>\n",
              "      <td>control</td>\n",
              "    </tr>\n",
              "    <tr>\n",
              "      <th>249977</th>\n",
              "      <td>2.122954</td>\n",
              "      <td>-0.768630</td>\n",
              "      <td>-0.668715</td>\n",
              "      <td>-0.219740</td>\n",
              "      <td>-3.400768</td>\n",
              "      <td>case</td>\n",
              "      <td>Control_249977</td>\n",
              "      <td>case</td>\n",
              "    </tr>\n",
              "  </tbody>\n",
              "</table>\n",
              "<p>499986 rows × 8 columns</p>\n",
              "</div>"
            ],
            "text/plain": [
              "        Phenotype_A  Phenotype_B  ...       sample_ID    label\n",
              "0          2.292659     0.431692  ...          Case_0  control\n",
              "1          0.990270    -0.105752  ...          Case_1     case\n",
              "2          4.073586     0.953800  ...          Case_2  control\n",
              "3         -0.382441     0.157373  ...          Case_3  control\n",
              "4          2.244434     0.226133  ...          Case_4  control\n",
              "...             ...          ...  ...             ...      ...\n",
              "249973     0.743734    -1.061748  ...  Control_249973     case\n",
              "249974     1.039140    -1.350113  ...  Control_249974  control\n",
              "249975    -2.261171     0.538808  ...  Control_249975  control\n",
              "249976     0.133600     1.001995  ...  Control_249976  control\n",
              "249977     2.122954    -0.768630  ...  Control_249977     case\n",
              "\n",
              "[499986 rows x 8 columns]"
            ]
          },
          "metadata": {
            "tags": []
          },
          "execution_count": 5
        }
      ]
    },
    {
      "cell_type": "code",
      "metadata": {
        "id": "A4kKK3tshhoQ",
        "colab_type": "code",
        "colab": {}
      },
      "source": [
        ""
      ],
      "execution_count": 5,
      "outputs": []
    },
    {
      "cell_type": "code",
      "metadata": {
        "id": "3oocqAM0hhzb",
        "colab_type": "code",
        "colab": {}
      },
      "source": [
        ""
      ],
      "execution_count": 5,
      "outputs": []
    },
    {
      "cell_type": "code",
      "metadata": {
        "id": "UZ_T2D7mhibl",
        "colab_type": "code",
        "colab": {
          "base_uri": "https://localhost:8080/",
          "height": 419
        },
        "outputId": "d21fe56e-146b-4a74-cbdf-9c99811ba9ee"
      },
      "source": [
        "full_df=full_df.dropna()\n",
        "full_df"
      ],
      "execution_count": 6,
      "outputs": [
        {
          "output_type": "execute_result",
          "data": {
            "text/html": [
              "<div>\n",
              "<style scoped>\n",
              "    .dataframe tbody tr th:only-of-type {\n",
              "        vertical-align: middle;\n",
              "    }\n",
              "\n",
              "    .dataframe tbody tr th {\n",
              "        vertical-align: top;\n",
              "    }\n",
              "\n",
              "    .dataframe thead th {\n",
              "        text-align: right;\n",
              "    }\n",
              "</style>\n",
              "<table border=\"1\" class=\"dataframe\">\n",
              "  <thead>\n",
              "    <tr style=\"text-align: right;\">\n",
              "      <th></th>\n",
              "      <th>Phenotype_A</th>\n",
              "      <th>Phenotype_B</th>\n",
              "      <th>Phenotype_C</th>\n",
              "      <th>Phenotype_D</th>\n",
              "      <th>Phenotype_E</th>\n",
              "      <th>predicted_label</th>\n",
              "      <th>sample_ID</th>\n",
              "      <th>label</th>\n",
              "    </tr>\n",
              "  </thead>\n",
              "  <tbody>\n",
              "    <tr>\n",
              "      <th>0</th>\n",
              "      <td>2.292659</td>\n",
              "      <td>0.431692</td>\n",
              "      <td>-0.102921</td>\n",
              "      <td>-0.558837</td>\n",
              "      <td>0.321569</td>\n",
              "      <td>control</td>\n",
              "      <td>Case_0</td>\n",
              "      <td>control</td>\n",
              "    </tr>\n",
              "    <tr>\n",
              "      <th>1</th>\n",
              "      <td>0.990270</td>\n",
              "      <td>-0.105752</td>\n",
              "      <td>-0.875705</td>\n",
              "      <td>-1.176165</td>\n",
              "      <td>-1.263534</td>\n",
              "      <td>case</td>\n",
              "      <td>Case_1</td>\n",
              "      <td>case</td>\n",
              "    </tr>\n",
              "    <tr>\n",
              "      <th>2</th>\n",
              "      <td>4.073586</td>\n",
              "      <td>0.953800</td>\n",
              "      <td>0.228695</td>\n",
              "      <td>-1.869877</td>\n",
              "      <td>-0.691730</td>\n",
              "      <td>control</td>\n",
              "      <td>Case_2</td>\n",
              "      <td>control</td>\n",
              "    </tr>\n",
              "    <tr>\n",
              "      <th>3</th>\n",
              "      <td>-0.382441</td>\n",
              "      <td>0.157373</td>\n",
              "      <td>-0.509281</td>\n",
              "      <td>-0.604467</td>\n",
              "      <td>1.743507</td>\n",
              "      <td>control</td>\n",
              "      <td>Case_3</td>\n",
              "      <td>control</td>\n",
              "    </tr>\n",
              "    <tr>\n",
              "      <th>4</th>\n",
              "      <td>2.244434</td>\n",
              "      <td>0.226133</td>\n",
              "      <td>-0.243899</td>\n",
              "      <td>-0.568993</td>\n",
              "      <td>2.033874</td>\n",
              "      <td>control</td>\n",
              "      <td>Case_4</td>\n",
              "      <td>control</td>\n",
              "    </tr>\n",
              "    <tr>\n",
              "      <th>...</th>\n",
              "      <td>...</td>\n",
              "      <td>...</td>\n",
              "      <td>...</td>\n",
              "      <td>...</td>\n",
              "      <td>...</td>\n",
              "      <td>...</td>\n",
              "      <td>...</td>\n",
              "      <td>...</td>\n",
              "    </tr>\n",
              "    <tr>\n",
              "      <th>249973</th>\n",
              "      <td>0.743734</td>\n",
              "      <td>-1.061748</td>\n",
              "      <td>1.420790</td>\n",
              "      <td>0.828385</td>\n",
              "      <td>0.063961</td>\n",
              "      <td>case</td>\n",
              "      <td>Control_249973</td>\n",
              "      <td>case</td>\n",
              "    </tr>\n",
              "    <tr>\n",
              "      <th>249974</th>\n",
              "      <td>1.039140</td>\n",
              "      <td>-1.350113</td>\n",
              "      <td>0.569011</td>\n",
              "      <td>0.419397</td>\n",
              "      <td>0.686059</td>\n",
              "      <td>control</td>\n",
              "      <td>Control_249974</td>\n",
              "      <td>control</td>\n",
              "    </tr>\n",
              "    <tr>\n",
              "      <th>249975</th>\n",
              "      <td>-2.261171</td>\n",
              "      <td>0.538808</td>\n",
              "      <td>2.578501</td>\n",
              "      <td>1.082193</td>\n",
              "      <td>2.455028</td>\n",
              "      <td>control</td>\n",
              "      <td>Control_249975</td>\n",
              "      <td>control</td>\n",
              "    </tr>\n",
              "    <tr>\n",
              "      <th>249976</th>\n",
              "      <td>0.133600</td>\n",
              "      <td>1.001995</td>\n",
              "      <td>0.976888</td>\n",
              "      <td>-0.125005</td>\n",
              "      <td>1.965423</td>\n",
              "      <td>control</td>\n",
              "      <td>Control_249976</td>\n",
              "      <td>control</td>\n",
              "    </tr>\n",
              "    <tr>\n",
              "      <th>249977</th>\n",
              "      <td>2.122954</td>\n",
              "      <td>-0.768630</td>\n",
              "      <td>-0.668715</td>\n",
              "      <td>-0.219740</td>\n",
              "      <td>-3.400768</td>\n",
              "      <td>case</td>\n",
              "      <td>Control_249977</td>\n",
              "      <td>case</td>\n",
              "    </tr>\n",
              "  </tbody>\n",
              "</table>\n",
              "<p>497491 rows × 8 columns</p>\n",
              "</div>"
            ],
            "text/plain": [
              "        Phenotype_A  Phenotype_B  ...       sample_ID    label\n",
              "0          2.292659     0.431692  ...          Case_0  control\n",
              "1          0.990270    -0.105752  ...          Case_1     case\n",
              "2          4.073586     0.953800  ...          Case_2  control\n",
              "3         -0.382441     0.157373  ...          Case_3  control\n",
              "4          2.244434     0.226133  ...          Case_4  control\n",
              "...             ...          ...  ...             ...      ...\n",
              "249973     0.743734    -1.061748  ...  Control_249973     case\n",
              "249974     1.039140    -1.350113  ...  Control_249974  control\n",
              "249975    -2.261171     0.538808  ...  Control_249975  control\n",
              "249976     0.133600     1.001995  ...  Control_249976  control\n",
              "249977     2.122954    -0.768630  ...  Control_249977     case\n",
              "\n",
              "[497491 rows x 8 columns]"
            ]
          },
          "metadata": {
            "tags": []
          },
          "execution_count": 6
        }
      ]
    },
    {
      "cell_type": "code",
      "metadata": {
        "id": "cwrkMaYVtB7y",
        "colab_type": "code",
        "colab": {}
      },
      "source": [
        ""
      ],
      "execution_count": 6,
      "outputs": []
    },
    {
      "cell_type": "code",
      "metadata": {
        "id": "zIuaVJnstCKZ",
        "colab_type": "code",
        "colab": {}
      },
      "source": [
        ""
      ],
      "execution_count": 6,
      "outputs": []
    },
    {
      "cell_type": "code",
      "metadata": {
        "id": "bmh6TW6YtCcC",
        "colab_type": "code",
        "colab": {
          "base_uri": "https://localhost:8080/",
          "height": 204
        },
        "outputId": "a2bdd4f3-9472-497b-bfa0-771070368a98"
      },
      "source": [
        "df = pd.DataFrame(index=[ 'Phenotype_A' , 'Phenotype_B' ,\n",
        "'Phenotype_C' , 'Phenotype_D' , 'Phenotype_E' ],\n",
        "columns=[ 'Phenotype_A' , 'Phenotype_B' ,\n",
        "'Phenotype_C' , 'Phenotype_D' , 'Phenotype_E' ])\n",
        "df.head()"
      ],
      "execution_count": 7,
      "outputs": [
        {
          "output_type": "execute_result",
          "data": {
            "text/html": [
              "<div>\n",
              "<style scoped>\n",
              "    .dataframe tbody tr th:only-of-type {\n",
              "        vertical-align: middle;\n",
              "    }\n",
              "\n",
              "    .dataframe tbody tr th {\n",
              "        vertical-align: top;\n",
              "    }\n",
              "\n",
              "    .dataframe thead th {\n",
              "        text-align: right;\n",
              "    }\n",
              "</style>\n",
              "<table border=\"1\" class=\"dataframe\">\n",
              "  <thead>\n",
              "    <tr style=\"text-align: right;\">\n",
              "      <th></th>\n",
              "      <th>Phenotype_A</th>\n",
              "      <th>Phenotype_B</th>\n",
              "      <th>Phenotype_C</th>\n",
              "      <th>Phenotype_D</th>\n",
              "      <th>Phenotype_E</th>\n",
              "    </tr>\n",
              "  </thead>\n",
              "  <tbody>\n",
              "    <tr>\n",
              "      <th>Phenotype_A</th>\n",
              "      <td>NaN</td>\n",
              "      <td>NaN</td>\n",
              "      <td>NaN</td>\n",
              "      <td>NaN</td>\n",
              "      <td>NaN</td>\n",
              "    </tr>\n",
              "    <tr>\n",
              "      <th>Phenotype_B</th>\n",
              "      <td>NaN</td>\n",
              "      <td>NaN</td>\n",
              "      <td>NaN</td>\n",
              "      <td>NaN</td>\n",
              "      <td>NaN</td>\n",
              "    </tr>\n",
              "    <tr>\n",
              "      <th>Phenotype_C</th>\n",
              "      <td>NaN</td>\n",
              "      <td>NaN</td>\n",
              "      <td>NaN</td>\n",
              "      <td>NaN</td>\n",
              "      <td>NaN</td>\n",
              "    </tr>\n",
              "    <tr>\n",
              "      <th>Phenotype_D</th>\n",
              "      <td>NaN</td>\n",
              "      <td>NaN</td>\n",
              "      <td>NaN</td>\n",
              "      <td>NaN</td>\n",
              "      <td>NaN</td>\n",
              "    </tr>\n",
              "    <tr>\n",
              "      <th>Phenotype_E</th>\n",
              "      <td>NaN</td>\n",
              "      <td>NaN</td>\n",
              "      <td>NaN</td>\n",
              "      <td>NaN</td>\n",
              "      <td>NaN</td>\n",
              "    </tr>\n",
              "  </tbody>\n",
              "</table>\n",
              "</div>"
            ],
            "text/plain": [
              "            Phenotype_A Phenotype_B Phenotype_C Phenotype_D Phenotype_E\n",
              "Phenotype_A         NaN         NaN         NaN         NaN         NaN\n",
              "Phenotype_B         NaN         NaN         NaN         NaN         NaN\n",
              "Phenotype_C         NaN         NaN         NaN         NaN         NaN\n",
              "Phenotype_D         NaN         NaN         NaN         NaN         NaN\n",
              "Phenotype_E         NaN         NaN         NaN         NaN         NaN"
            ]
          },
          "metadata": {
            "tags": []
          },
          "execution_count": 7
        }
      ]
    },
    {
      "cell_type": "code",
      "metadata": {
        "id": "4QYsprkgwKuI",
        "colab_type": "code",
        "colab": {
          "base_uri": "https://localhost:8080/",
          "height": 71
        },
        "outputId": "2f52ef05-d05c-41f3-bdaf-a2c7343fd848"
      },
      "source": [
        "import seaborn as sns"
      ],
      "execution_count": 8,
      "outputs": [
        {
          "output_type": "stream",
          "text": [
            "/usr/local/lib/python3.6/dist-packages/statsmodels/tools/_testing.py:19: FutureWarning: pandas.util.testing is deprecated. Use the functions in the public API at pandas.testing instead.\n",
            "  import pandas.util.testing as tm\n"
          ],
          "name": "stderr"
        }
      ]
    },
    {
      "cell_type": "code",
      "metadata": {
        "id": "XaCLwkqPwO6u",
        "colab_type": "code",
        "colab": {}
      },
      "source": [
        "from scipy import stats"
      ],
      "execution_count": 9,
      "outputs": []
    },
    {
      "cell_type": "code",
      "metadata": {
        "id": "tDeduLVBvNcu",
        "colab_type": "code",
        "colab": {}
      },
      "source": [
        "df.loc[ 'Phenotype_A' , 'Phenotype_B' ] =stats.pearsonr(full_df[ 'Phenotype_A' ], full_df[ 'Phenotype_B' ])[ 0 ]\n",
        "df.loc[ 'Phenotype_A' , 'Phenotype_C' ] =stats.pearsonr(full_df[ 'Phenotype_A' ], full_df[ 'Phenotype_C' ])[ 0 ]\n",
        "df.loc[ 'Phenotype_A' , 'Phenotype_D' ] =stats.pearsonr(full_df[ 'Phenotype_A' ], full_df[ 'Phenotype_D' ])[ 0 ]\n",
        "df.loc[ 'Phenotype_A' , 'Phenotype_E' ] =stats.pearsonr(full_df[ 'Phenotype_A' ], full_df[ 'Phenotype_E' ])[ 0 ]\n",
        "df.loc[ 'Phenotype_B' , 'Phenotype_C' ] =stats.pearsonr(full_df[ 'Phenotype_B' ], full_df[ 'Phenotype_C' ])[ 0 ]\n",
        "df.loc[ 'Phenotype_B' , 'Phenotype_D' ] =stats.pearsonr(full_df[ 'Phenotype_B' ], full_df[ 'Phenotype_D' ])[ 0 ]\n",
        "df.loc[ 'Phenotype_B' , 'Phenotype_E' ] =stats.pearsonr(full_df[ 'Phenotype_B' ], full_df[ 'Phenotype_E' ])[ 0 ]\n",
        "df.loc[ 'Phenotype_C' , 'Phenotype_D' ] =stats.pearsonr(full_df[ 'Phenotype_C' ], full_df[ 'Phenotype_D' ])[ 0 ]\n",
        "df.loc[ 'Phenotype_C' , 'Phenotype_E' ] =stats.pearsonr(full_df[ 'Phenotype_C' ], full_df[ 'Phenotype_E' ])[ 0 ]\n",
        "df.loc[ 'Phenotype_D' , 'Phenotype_E' ] =stats.pearsonr(full_df[ 'Phenotype_D' ], full_df[ 'Phenotype_E' ])[ 0 ]"
      ],
      "execution_count": 10,
      "outputs": []
    },
    {
      "cell_type": "code",
      "metadata": {
        "id": "f29Rhwjxx2m0",
        "colab_type": "code",
        "colab": {
          "base_uri": "https://localhost:8080/",
          "height": 359
        },
        "outputId": "53fc53ea-6725-4ac9-ef78-259828482b93"
      },
      "source": [
        "df = df.stack().reset_index()\n",
        "df = df.rename(columns={ 'level_0' : 'phenotype_1' , 'level_1' :\n",
        "'phenotype_2' , 0 : 'correlation' })\n",
        "df = df.sort_values(by= 'correlation' , ascending= False )\n",
        "df"
      ],
      "execution_count": 11,
      "outputs": [
        {
          "output_type": "execute_result",
          "data": {
            "text/html": [
              "<div>\n",
              "<style scoped>\n",
              "    .dataframe tbody tr th:only-of-type {\n",
              "        vertical-align: middle;\n",
              "    }\n",
              "\n",
              "    .dataframe tbody tr th {\n",
              "        vertical-align: top;\n",
              "    }\n",
              "\n",
              "    .dataframe thead th {\n",
              "        text-align: right;\n",
              "    }\n",
              "</style>\n",
              "<table border=\"1\" class=\"dataframe\">\n",
              "  <thead>\n",
              "    <tr style=\"text-align: right;\">\n",
              "      <th></th>\n",
              "      <th>phenotype_1</th>\n",
              "      <th>phenotype_2</th>\n",
              "      <th>correlation</th>\n",
              "    </tr>\n",
              "  </thead>\n",
              "  <tbody>\n",
              "    <tr>\n",
              "      <th>7</th>\n",
              "      <td>Phenotype_C</td>\n",
              "      <td>Phenotype_D</td>\n",
              "      <td>0.70621</td>\n",
              "    </tr>\n",
              "    <tr>\n",
              "      <th>6</th>\n",
              "      <td>Phenotype_B</td>\n",
              "      <td>Phenotype_E</td>\n",
              "      <td>0.411651</td>\n",
              "    </tr>\n",
              "    <tr>\n",
              "      <th>8</th>\n",
              "      <td>Phenotype_C</td>\n",
              "      <td>Phenotype_E</td>\n",
              "      <td>0.286039</td>\n",
              "    </tr>\n",
              "    <tr>\n",
              "      <th>9</th>\n",
              "      <td>Phenotype_D</td>\n",
              "      <td>Phenotype_E</td>\n",
              "      <td>0.160336</td>\n",
              "    </tr>\n",
              "    <tr>\n",
              "      <th>4</th>\n",
              "      <td>Phenotype_B</td>\n",
              "      <td>Phenotype_C</td>\n",
              "      <td>0.154375</td>\n",
              "    </tr>\n",
              "    <tr>\n",
              "      <th>5</th>\n",
              "      <td>Phenotype_B</td>\n",
              "      <td>Phenotype_D</td>\n",
              "      <td>-0.0822807</td>\n",
              "    </tr>\n",
              "    <tr>\n",
              "      <th>0</th>\n",
              "      <td>Phenotype_A</td>\n",
              "      <td>Phenotype_B</td>\n",
              "      <td>-0.292619</td>\n",
              "    </tr>\n",
              "    <tr>\n",
              "      <th>1</th>\n",
              "      <td>Phenotype_A</td>\n",
              "      <td>Phenotype_C</td>\n",
              "      <td>-0.481284</td>\n",
              "    </tr>\n",
              "    <tr>\n",
              "      <th>3</th>\n",
              "      <td>Phenotype_A</td>\n",
              "      <td>Phenotype_E</td>\n",
              "      <td>-0.531393</td>\n",
              "    </tr>\n",
              "    <tr>\n",
              "      <th>2</th>\n",
              "      <td>Phenotype_A</td>\n",
              "      <td>Phenotype_D</td>\n",
              "      <td>-0.537488</td>\n",
              "    </tr>\n",
              "  </tbody>\n",
              "</table>\n",
              "</div>"
            ],
            "text/plain": [
              "   phenotype_1  phenotype_2 correlation\n",
              "7  Phenotype_C  Phenotype_D     0.70621\n",
              "6  Phenotype_B  Phenotype_E    0.411651\n",
              "8  Phenotype_C  Phenotype_E    0.286039\n",
              "9  Phenotype_D  Phenotype_E    0.160336\n",
              "4  Phenotype_B  Phenotype_C    0.154375\n",
              "5  Phenotype_B  Phenotype_D  -0.0822807\n",
              "0  Phenotype_A  Phenotype_B   -0.292619\n",
              "1  Phenotype_A  Phenotype_C   -0.481284\n",
              "3  Phenotype_A  Phenotype_E   -0.531393\n",
              "2  Phenotype_A  Phenotype_D   -0.537488"
            ]
          },
          "metadata": {
            "tags": []
          },
          "execution_count": 11
        }
      ]
    },
    {
      "cell_type": "code",
      "metadata": {
        "id": "3vvC2jchytMq",
        "colab_type": "code",
        "colab": {}
      },
      "source": [
        "df.to_csv('/content/drive/My Drive/data_science_workshop/correlation.csv',index=False)"
      ],
      "execution_count": 12,
      "outputs": []
    },
    {
      "cell_type": "code",
      "metadata": {
        "id": "RcofreB9heCa",
        "colab_type": "code",
        "colab": {}
      },
      "source": [
        ""
      ],
      "execution_count": 12,
      "outputs": []
    },
    {
      "cell_type": "code",
      "metadata": {
        "id": "VHuTcq8rhesp",
        "colab_type": "code",
        "colab": {}
      },
      "source": [
        "import seaborn as sns"
      ],
      "execution_count": 13,
      "outputs": []
    },
    {
      "cell_type": "code",
      "metadata": {
        "id": "4gxf-fkYhk_o",
        "colab_type": "code",
        "colab": {
          "base_uri": "https://localhost:8080/",
          "height": 297
        },
        "outputId": "037d53e8-dba0-46fe-e534-6167e2de03a7"
      },
      "source": [
        "sns.scatterplot(data=full_df, x='Phenotype_C', y='Phenotype_D',hue='label')"
      ],
      "execution_count": 14,
      "outputs": [
        {
          "output_type": "execute_result",
          "data": {
            "text/plain": [
              "<matplotlib.axes._subplots.AxesSubplot at 0x7f448792afd0>"
            ]
          },
          "metadata": {
            "tags": []
          },
          "execution_count": 14
        },
        {
          "output_type": "display_data",
          "data": {
            "image/png": "[encoded data removed]",
            "text/plain": [
              "<Figure size 432x288 with 1 Axes>"
            ]
          },
          "metadata": {
            "tags": [],
            "needs_background": "light"
          }
        }
      ]
    },
    {
      "cell_type": "code",
      "metadata": {
        "id": "55FUbQmbjIEi",
        "colab_type": "code",
        "colab": {}
      },
      "source": [
        "import matplotlib.pyplot as plt\n"
      ],
      "execution_count": 15,
      "outputs": []
    },
    {
      "cell_type": "code",
      "metadata": {
        "id": "sq8QTxR_jQs0",
        "colab_type": "code",
        "colab": {
          "base_uri": "https://localhost:8080/",
          "height": 381
        },
        "outputId": "65317502-6cc0-4e2b-f816-3d833d4a6ab9"
      },
      "source": [
        "g=sns.set_style(\"white\")\n",
        "g=sns.set_context(\"poster\")\n",
        "g=sns.scatterplot(data=full_df, x='Phenotype_C', y='Phenotype_D',hue='label')\n",
        "g.set(xlabel='Phenotype_C', ylabel='Phenotype_D')\n",
        "g=sns.despine()\n",
        "plt.savefig(\"/content/drive/My Drive/data_science_workshop/max_correlation.png\",bbox_inches='tight')"
      ],
      "execution_count": 16,
      "outputs": [
        {
          "output_type": "stream",
          "text": [
            "/usr/local/lib/python3.6/dist-packages/ipykernel_launcher.py:6: UserWarning: Creating legend with loc=\"best\" can be slow with large amounts of data.\n",
            "  \n",
            "/usr/local/lib/python3.6/dist-packages/IPython/core/pylabtools.py:125: UserWarning: Creating legend with loc=\"best\" can be slow with large amounts of data.\n",
            "  fig.canvas.print_figure(bytes_io, **kw)\n"
          ],
          "name": "stderr"
        },
        {
          "output_type": "display_data",
          "data": {
            "image/png": "[encoded data removed]",
            "text/plain": [
              "<Figure size 432x288 with 1 Axes>"
            ]
          },
          "metadata": {
            "tags": []
          }
        }
      ]
    },
    {
      "cell_type": "code",
      "metadata": {
        "id": "SbPYop65sq-9",
        "colab_type": "code",
        "colab": {}
      },
      "source": [
        "full_df_A=full_df[['Phenotype_A','label']]"
      ],
      "execution_count": 17,
      "outputs": []
    },
    {
      "cell_type": "code",
      "metadata": {
        "id": "6rtBlRGTsrJX",
        "colab_type": "code",
        "colab": {}
      },
      "source": [
        "full_df_B=full_df[['Phenotype_B','label']]\n"
      ],
      "execution_count": 18,
      "outputs": []
    },
    {
      "cell_type": "code",
      "metadata": {
        "id": "hTBqPfqNsrQ7",
        "colab_type": "code",
        "colab": {}
      },
      "source": [
        "full_df_C=full_df[['Phenotype_C','label']]"
      ],
      "execution_count": 19,
      "outputs": []
    },
    {
      "cell_type": "code",
      "metadata": {
        "id": "Ddh6kyCttNOh",
        "colab_type": "code",
        "colab": {}
      },
      "source": [
        "full_df_D=full_df[['Phenotype_D','label']]"
      ],
      "execution_count": 20,
      "outputs": []
    },
    {
      "cell_type": "code",
      "metadata": {
        "id": "3GsT8GultNfS",
        "colab_type": "code",
        "colab": {}
      },
      "source": [
        "full_df_E=full_df[['Phenotype_E','label']]"
      ],
      "execution_count": 21,
      "outputs": []
    },
    {
      "cell_type": "code",
      "metadata": {
        "id": "OkUuN51ynzK9",
        "colab_type": "code",
        "colab": {
          "base_uri": "https://localhost:8080/",
          "height": 102
        },
        "outputId": "90b64cbe-5c8d-4e5d-cca1-0cf01aa0d447"
      },
      "source": [
        "A_case=full_df_A.loc[full_df_A['label'] == 'case','Phenotype_A']\n",
        "A_control=full_df_A.loc[full_df_A['label'] == 'control','Phenotype_A']\n",
        "tt1_results= stats.ttest_ind(A_case, A_control)\n",
        "B_case=full_df_B.loc[full_df_B['label'] == 'case','Phenotype_B']\n",
        "B_control=full_df_B.loc[full_df_B['label'] == 'control','Phenotype_B']\n",
        "tt2_results= stats.ttest_ind(B_case, B_control)\n",
        "C_case=full_df_C.loc[full_df_C['label'] == 'case','Phenotype_C']\n",
        "C_control=full_df_C.loc[full_df_C['label'] == 'control','Phenotype_C']\n",
        "tt3_results= stats.ttest_ind(C_case, C_control)\n",
        "D_case=full_df_D.loc[full_df_D['label'] == 'case','Phenotype_D']\n",
        "D_control=full_df_D.loc[full_df_D['label'] == 'control','Phenotype_D']\n",
        "tt4_results= stats.ttest_ind(D_case, D_control)\n",
        "E_case=full_df_E.loc[full_df_E['label'] == 'case','Phenotype_E']\n",
        "E_control=full_df_E.loc[full_df_E['label'] == 'control','Phenotype_E']\n",
        "tt5_results= stats.ttest_ind(E_case, E_control)\n",
        "print(tt1_results)\n",
        "print(tt2_results)\n",
        "print(tt3_results)\n",
        "print(tt4_results)\n",
        "print(tt5_results)\n",
        "\n"
      ],
      "execution_count": 22,
      "outputs": [
        {
          "output_type": "stream",
          "text": [
            "Ttest_indResult(statistic=142.63636620023755, pvalue=0.0)\n",
            "Ttest_indResult(statistic=-269.2667471225138, pvalue=0.0)\n",
            "Ttest_indResult(statistic=12.30447177468247, pvalue=8.670098313170538e-35)\n",
            "Ttest_indResult(statistic=94.66315822217977, pvalue=0.0)\n",
            "Ttest_indResult(statistic=-756.8417888728849, pvalue=0.0)\n"
          ],
          "name": "stdout"
        }
      ]
    },
    {
      "cell_type": "code",
      "metadata": {
        "id": "x1hLetUo2l84",
        "colab_type": "code",
        "colab": {
          "base_uri": "https://localhost:8080/",
          "height": 49
        },
        "outputId": "3ed46072-b233-41ea-aff5-243986f5c668"
      },
      "source": [
        "df_t = pd.DataFrame(columns=[ 'phenotype','t_stat' ,'p_value' ])\n",
        "df_t.head()"
      ],
      "execution_count": 23,
      "outputs": [
        {
          "output_type": "execute_result",
          "data": {
            "text/html": [
              "<div>\n",
              "<style scoped>\n",
              "    .dataframe tbody tr th:only-of-type {\n",
              "        vertical-align: middle;\n",
              "    }\n",
              "\n",
              "    .dataframe tbody tr th {\n",
              "        vertical-align: top;\n",
              "    }\n",
              "\n",
              "    .dataframe thead th {\n",
              "        text-align: right;\n",
              "    }\n",
              "</style>\n",
              "<table border=\"1\" class=\"dataframe\">\n",
              "  <thead>\n",
              "    <tr style=\"text-align: right;\">\n",
              "      <th></th>\n",
              "      <th>phenotype</th>\n",
              "      <th>t_stat</th>\n",
              "      <th>p_value</th>\n",
              "    </tr>\n",
              "  </thead>\n",
              "  <tbody>\n",
              "  </tbody>\n",
              "</table>\n",
              "</div>"
            ],
            "text/plain": [
              "Empty DataFrame\n",
              "Columns: [phenotype, t_stat, p_value]\n",
              "Index: []"
            ]
          },
          "metadata": {
            "tags": []
          },
          "execution_count": 23
        }
      ]
    },
    {
      "cell_type": "code",
      "metadata": {
        "id": "eyESgfZjs4le",
        "colab_type": "code",
        "colab": {}
      },
      "source": [
        "df_t.loc[ 'Phenotype_A' ] =tt1_results[0]\n",
        "df_t.loc[ 'Phenotype_B' ] =tt2_results[0]\n",
        "df_t.loc[ 'Phenotype_C' ] =tt3_results[0]\n",
        "df_t.loc[ 'Phenotype_D' ] =tt4_results[0]\n",
        "df_t.loc[ 'Phenotype_E' ] =tt5_results[0]"
      ],
      "execution_count": 24,
      "outputs": []
    },
    {
      "cell_type": "code",
      "metadata": {
        "id": "ZXvmeg3F7HXj",
        "colab_type": "code",
        "colab": {
          "base_uri": "https://localhost:8080/",
          "height": 204
        },
        "outputId": "0fa2254a-c973-447e-b964-32a76e617f3a"
      },
      "source": [
        "df_t"
      ],
      "execution_count": 25,
      "outputs": [
        {
          "output_type": "execute_result",
          "data": {
            "text/html": [
              "<div>\n",
              "<style scoped>\n",
              "    .dataframe tbody tr th:only-of-type {\n",
              "        vertical-align: middle;\n",
              "    }\n",
              "\n",
              "    .dataframe tbody tr th {\n",
              "        vertical-align: top;\n",
              "    }\n",
              "\n",
              "    .dataframe thead th {\n",
              "        text-align: right;\n",
              "    }\n",
              "</style>\n",
              "<table border=\"1\" class=\"dataframe\">\n",
              "  <thead>\n",
              "    <tr style=\"text-align: right;\">\n",
              "      <th></th>\n",
              "      <th>phenotype</th>\n",
              "      <th>t_stat</th>\n",
              "      <th>p_value</th>\n",
              "    </tr>\n",
              "  </thead>\n",
              "  <tbody>\n",
              "    <tr>\n",
              "      <th>Phenotype_A</th>\n",
              "      <td>142.636366</td>\n",
              "      <td>142.636366</td>\n",
              "      <td>142.636366</td>\n",
              "    </tr>\n",
              "    <tr>\n",
              "      <th>Phenotype_B</th>\n",
              "      <td>-269.266747</td>\n",
              "      <td>-269.266747</td>\n",
              "      <td>-269.266747</td>\n",
              "    </tr>\n",
              "    <tr>\n",
              "      <th>Phenotype_C</th>\n",
              "      <td>12.304472</td>\n",
              "      <td>12.304472</td>\n",
              "      <td>12.304472</td>\n",
              "    </tr>\n",
              "    <tr>\n",
              "      <th>Phenotype_D</th>\n",
              "      <td>94.663158</td>\n",
              "      <td>94.663158</td>\n",
              "      <td>94.663158</td>\n",
              "    </tr>\n",
              "    <tr>\n",
              "      <th>Phenotype_E</th>\n",
              "      <td>-756.841789</td>\n",
              "      <td>-756.841789</td>\n",
              "      <td>-756.841789</td>\n",
              "    </tr>\n",
              "  </tbody>\n",
              "</table>\n",
              "</div>"
            ],
            "text/plain": [
              "              phenotype      t_stat     p_value\n",
              "Phenotype_A  142.636366  142.636366  142.636366\n",
              "Phenotype_B -269.266747 -269.266747 -269.266747\n",
              "Phenotype_C   12.304472   12.304472   12.304472\n",
              "Phenotype_D   94.663158   94.663158   94.663158\n",
              "Phenotype_E -756.841789 -756.841789 -756.841789"
            ]
          },
          "metadata": {
            "tags": []
          },
          "execution_count": 25
        }
      ]
    },
    {
      "cell_type": "code",
      "metadata": {
        "id": "_R1Fp502ZsX4",
        "colab_type": "code",
        "colab": {
          "base_uri": "https://localhost:8080/",
          "height": 329
        },
        "outputId": "75522d4d-fbfa-479d-bfca-3133c2c08f14"
      },
      "source": [
        "sns.barplot(data=full_df_A, x='label', y='Phenotype_A')"
      ],
      "execution_count": 27,
      "outputs": [
        {
          "output_type": "execute_result",
          "data": {
            "text/plain": [
              "<matplotlib.axes._subplots.AxesSubplot at 0x7f4485834630>"
            ]
          },
          "metadata": {
            "tags": []
          },
          "execution_count": 27
        },
        {
          "output_type": "display_data",
          "data": {
            "image/png": "[encoded data removed]",
            "text/plain": [
              "<Figure size 432x288 with 1 Axes>"
            ]
          },
          "metadata": {
            "tags": []
          }
        }
      ]
    },
    {
      "cell_type": "code",
      "metadata": {
        "id": "dyfn2DbSas24",
        "colab_type": "code",
        "colab": {
          "base_uri": "https://localhost:8080/",
          "height": 312
        },
        "outputId": "c5979edc-1e34-480e-f502-b2d5054fdb1c"
      },
      "source": [
        "g=sns.set_style(\"white\")\n",
        "g=sns.set_context(\"poster\")\n",
        "g=sns.barplot(data=full_df_A, x='label', y='Phenotype_A')\n",
        "g.set(xlabel='label', ylabel='Phenotype_A')\n",
        "g=sns.despine()\n",
        "plt.savefig(\"/content/drive/My Drive/data_science_workshop/max_significance.pdf\",bbox_inches='tight')"
      ],
      "execution_count": 29,
      "outputs": [
        {
          "output_type": "display_data",
          "data": {
            "image/png": "[encoded data removed]",
            "text/plain": [
              "<Figure size 432x288 with 1 Axes>"
            ]
          },
          "metadata": {
            "tags": []
          }
        }
      ]
    },
    {
      "cell_type": "code",
      "metadata": {
        "id": "aObVuOJzbIUd",
        "colab_type": "code",
        "colab": {
          "base_uri": "https://localhost:8080/",
          "height": 173
        },
        "outputId": "1246df41-4593-403a-d391-5518731ee204"
      },
      "source": [
        "distribution_stats=full_df_A.groupby('label').describe()\n",
        "distribution_stats"
      ],
      "execution_count": 37,
      "outputs": [
        {
          "output_type": "execute_result",
          "data": {
            "text/html": [
              "<div>\n",
              "<style scoped>\n",
              "    .dataframe tbody tr th:only-of-type {\n",
              "        vertical-align: middle;\n",
              "    }\n",
              "\n",
              "    .dataframe tbody tr th {\n",
              "        vertical-align: top;\n",
              "    }\n",
              "\n",
              "    .dataframe thead tr th {\n",
              "        text-align: left;\n",
              "    }\n",
              "\n",
              "    .dataframe thead tr:last-of-type th {\n",
              "        text-align: right;\n",
              "    }\n",
              "</style>\n",
              "<table border=\"1\" class=\"dataframe\">\n",
              "  <thead>\n",
              "    <tr>\n",
              "      <th></th>\n",
              "      <th colspan=\"8\" halign=\"left\">Phenotype_A</th>\n",
              "    </tr>\n",
              "    <tr>\n",
              "      <th></th>\n",
              "      <th>count</th>\n",
              "      <th>mean</th>\n",
              "      <th>std</th>\n",
              "      <th>min</th>\n",
              "      <th>25%</th>\n",
              "      <th>50%</th>\n",
              "      <th>75%</th>\n",
              "      <th>max</th>\n",
              "    </tr>\n",
              "    <tr>\n",
              "      <th>label</th>\n",
              "      <th></th>\n",
              "      <th></th>\n",
              "      <th></th>\n",
              "      <th></th>\n",
              "      <th></th>\n",
              "      <th></th>\n",
              "      <th></th>\n",
              "      <th></th>\n",
              "    </tr>\n",
              "  </thead>\n",
              "  <tbody>\n",
              "    <tr>\n",
              "      <th>case</th>\n",
              "      <td>190247.0</td>\n",
              "      <td>1.54734</td>\n",
              "      <td>1.43127</td>\n",
              "      <td>-3.784773</td>\n",
              "      <td>0.546189</td>\n",
              "      <td>1.498434</td>\n",
              "      <td>2.509652</td>\n",
              "      <td>8.015012</td>\n",
              "    </tr>\n",
              "    <tr>\n",
              "      <th>control</th>\n",
              "      <td>307244.0</td>\n",
              "      <td>0.94318</td>\n",
              "      <td>1.46449</td>\n",
              "      <td>-5.457804</td>\n",
              "      <td>-0.056476</td>\n",
              "      <td>0.967570</td>\n",
              "      <td>1.963078</td>\n",
              "      <td>6.648746</td>\n",
              "    </tr>\n",
              "  </tbody>\n",
              "</table>\n",
              "</div>"
            ],
            "text/plain": [
              "        Phenotype_A                    ...                              \n",
              "              count     mean      std  ...       50%       75%       max\n",
              "label                                  ...                              \n",
              "case       190247.0  1.54734  1.43127  ...  1.498434  2.509652  8.015012\n",
              "control    307244.0  0.94318  1.46449  ...  0.967570  1.963078  6.648746\n",
              "\n",
              "[2 rows x 8 columns]"
            ]
          },
          "metadata": {
            "tags": []
          },
          "execution_count": 37
        }
      ]
    },
    {
      "cell_type": "code",
      "metadata": {
        "id": "913sYPObcUx4",
        "colab_type": "code",
        "colab": {}
      },
      "source": [
        "distribution_stats.to_csv('/content/drive/My Drive/data_science_workshop/distribution_stats.csv')"
      ],
      "execution_count": 39,
      "outputs": []
    }
  ]
}